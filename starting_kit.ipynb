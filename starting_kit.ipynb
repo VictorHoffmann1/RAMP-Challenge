{
 "cells": [
  {
   "cell_type": "markdown",
   "metadata": {},
   "source": [
    "# **RAMP starting kit on the French housing regression dataset**"
   ]
  },
  {
   "cell_type": "markdown",
   "metadata": {},
   "source": [
    "## Table of Contents\n",
    "* [Introduction](#introduction)\n",
    "* [The dataset](#dataset)\n",
    "* [Requirements](#requirements)\n",
    "* [Data exploration](#exploration)\n",
    "* [Base model](#base_model)\n",
    "* [Submitting on RAMP](#submitting)"
   ]
  },
  {
   "cell_type": "markdown",
   "metadata": {},
   "source": [
    "# Introduction"
   ]
  },
  {
   "cell_type": "markdown",
   "metadata": {},
   "source": [
    "# The dataset"
   ]
  },
  {
   "cell_type": "markdown",
   "metadata": {},
   "source": [
    "For this challenge, the data were first preprocessed and then split in order to preserve a private test set on which to evaluate the models on our servers. This leaves 1 587 807 observations in the public train set and 396 952 observations in the public test set. "
   ]
  },
  {
   "cell_type": "markdown",
   "metadata": {},
   "source": [
    "## Requirements"
   ]
  },
  {
   "cell_type": "code",
   "execution_count": 218,
   "metadata": {},
   "outputs": [],
   "source": [
    "import numpy as np\n",
    "import sklearn\n",
    "import pandas as pd\n",
    "import matplotlib.pyplot as plt\n",
    "import seaborn as sns\n",
    "\n",
    "from sklearn.preprocessing import StandardScaler\n",
    "from sklearn.pipeline import Pipeline\n",
    "from sklearn.linear_model import LinearRegression"
   ]
  },
  {
   "cell_type": "markdown",
   "metadata": {},
   "source": [
    "## Data exploration"
   ]
  },
  {
   "cell_type": "code",
   "execution_count": 219,
   "metadata": {},
   "outputs": [
    {
     "data": {
      "text/html": [
       "<div>\n",
       "<style scoped>\n",
       "    .dataframe tbody tr th:only-of-type {\n",
       "        vertical-align: middle;\n",
       "    }\n",
       "\n",
       "    .dataframe tbody tr th {\n",
       "        vertical-align: top;\n",
       "    }\n",
       "\n",
       "    .dataframe thead th {\n",
       "        text-align: right;\n",
       "    }\n",
       "</style>\n",
       "<table border=\"1\" class=\"dataframe\">\n",
       "  <thead>\n",
       "    <tr style=\"text-align: right;\">\n",
       "      <th></th>\n",
       "      <th>Date mutation</th>\n",
       "      <th>Nature mutation</th>\n",
       "      <th>Valeur fonciere</th>\n",
       "      <th>Code departement</th>\n",
       "      <th>Code commune</th>\n",
       "      <th>Type local</th>\n",
       "      <th>Nombre pieces principales</th>\n",
       "      <th>Nature culture</th>\n",
       "      <th>Surface terrain</th>\n",
       "      <th>Surface reelle bati</th>\n",
       "    </tr>\n",
       "  </thead>\n",
       "  <tbody>\n",
       "    <tr>\n",
       "      <th>0</th>\n",
       "      <td>10/09/2021</td>\n",
       "      <td>Vente</td>\n",
       "      <td>874075,00</td>\n",
       "      <td>13</td>\n",
       "      <td>50</td>\n",
       "      <td>Dépendance</td>\n",
       "      <td>0.0</td>\n",
       "      <td>T</td>\n",
       "      <td>3000.0</td>\n",
       "      <td>0.0</td>\n",
       "    </tr>\n",
       "    <tr>\n",
       "      <th>1</th>\n",
       "      <td>20/07/2021</td>\n",
       "      <td>Vente</td>\n",
       "      <td>149064,00</td>\n",
       "      <td>23</td>\n",
       "      <td>261</td>\n",
       "      <td>NaN</td>\n",
       "      <td>NaN</td>\n",
       "      <td>T</td>\n",
       "      <td>65635.0</td>\n",
       "      <td>NaN</td>\n",
       "    </tr>\n",
       "    <tr>\n",
       "      <th>2</th>\n",
       "      <td>12/05/2021</td>\n",
       "      <td>Vente</td>\n",
       "      <td>306000,00</td>\n",
       "      <td>60</td>\n",
       "      <td>139</td>\n",
       "      <td>Maison</td>\n",
       "      <td>4.0</td>\n",
       "      <td>S</td>\n",
       "      <td>1049.0</td>\n",
       "      <td>70.0</td>\n",
       "    </tr>\n",
       "    <tr>\n",
       "      <th>3</th>\n",
       "      <td>09/02/2021</td>\n",
       "      <td>Vente</td>\n",
       "      <td>560000,00</td>\n",
       "      <td>75</td>\n",
       "      <td>113</td>\n",
       "      <td>Appartement</td>\n",
       "      <td>2.0</td>\n",
       "      <td>NaN</td>\n",
       "      <td>NaN</td>\n",
       "      <td>48.0</td>\n",
       "    </tr>\n",
       "    <tr>\n",
       "      <th>4</th>\n",
       "      <td>12/05/2021</td>\n",
       "      <td>Vente</td>\n",
       "      <td>175000,00</td>\n",
       "      <td>6</td>\n",
       "      <td>29</td>\n",
       "      <td>Dépendance</td>\n",
       "      <td>0.0</td>\n",
       "      <td>NaN</td>\n",
       "      <td>NaN</td>\n",
       "      <td>0.0</td>\n",
       "    </tr>\n",
       "    <tr>\n",
       "      <th>...</th>\n",
       "      <td>...</td>\n",
       "      <td>...</td>\n",
       "      <td>...</td>\n",
       "      <td>...</td>\n",
       "      <td>...</td>\n",
       "      <td>...</td>\n",
       "      <td>...</td>\n",
       "      <td>...</td>\n",
       "      <td>...</td>\n",
       "      <td>...</td>\n",
       "    </tr>\n",
       "    <tr>\n",
       "      <th>1587802</th>\n",
       "      <td>11/01/2021</td>\n",
       "      <td>Vente</td>\n",
       "      <td>153000,00</td>\n",
       "      <td>77</td>\n",
       "      <td>90</td>\n",
       "      <td>Maison</td>\n",
       "      <td>4.0</td>\n",
       "      <td>S</td>\n",
       "      <td>131.0</td>\n",
       "      <td>103.0</td>\n",
       "    </tr>\n",
       "    <tr>\n",
       "      <th>1587803</th>\n",
       "      <td>07/04/2021</td>\n",
       "      <td>Vente</td>\n",
       "      <td>10000,00</td>\n",
       "      <td>17</td>\n",
       "      <td>202</td>\n",
       "      <td>NaN</td>\n",
       "      <td>NaN</td>\n",
       "      <td>S</td>\n",
       "      <td>3.0</td>\n",
       "      <td>NaN</td>\n",
       "    </tr>\n",
       "    <tr>\n",
       "      <th>1587804</th>\n",
       "      <td>26/01/2021</td>\n",
       "      <td>Vente</td>\n",
       "      <td>170130,00</td>\n",
       "      <td>65</td>\n",
       "      <td>440</td>\n",
       "      <td>Appartement</td>\n",
       "      <td>4.0</td>\n",
       "      <td>NaN</td>\n",
       "      <td>NaN</td>\n",
       "      <td>96.0</td>\n",
       "    </tr>\n",
       "    <tr>\n",
       "      <th>1587805</th>\n",
       "      <td>29/09/2021</td>\n",
       "      <td>Vente</td>\n",
       "      <td>27188,00</td>\n",
       "      <td>19</td>\n",
       "      <td>31</td>\n",
       "      <td>NaN</td>\n",
       "      <td>NaN</td>\n",
       "      <td>S</td>\n",
       "      <td>532.0</td>\n",
       "      <td>NaN</td>\n",
       "    </tr>\n",
       "    <tr>\n",
       "      <th>1587806</th>\n",
       "      <td>20/12/2021</td>\n",
       "      <td>Vente</td>\n",
       "      <td>24000,00</td>\n",
       "      <td>79</td>\n",
       "      <td>132</td>\n",
       "      <td>NaN</td>\n",
       "      <td>NaN</td>\n",
       "      <td>P</td>\n",
       "      <td>2484.0</td>\n",
       "      <td>NaN</td>\n",
       "    </tr>\n",
       "  </tbody>\n",
       "</table>\n",
       "<p>1587807 rows × 10 columns</p>\n",
       "</div>"
      ],
      "text/plain": [
       "        Date mutation Nature mutation Valeur fonciere Code departement  \\\n",
       "0          10/09/2021           Vente       874075,00               13   \n",
       "1          20/07/2021           Vente       149064,00               23   \n",
       "2          12/05/2021           Vente       306000,00               60   \n",
       "3          09/02/2021           Vente       560000,00               75   \n",
       "4          12/05/2021           Vente       175000,00                6   \n",
       "...               ...             ...             ...              ...   \n",
       "1587802    11/01/2021           Vente       153000,00               77   \n",
       "1587803    07/04/2021           Vente        10000,00               17   \n",
       "1587804    26/01/2021           Vente       170130,00               65   \n",
       "1587805    29/09/2021           Vente        27188,00               19   \n",
       "1587806    20/12/2021           Vente        24000,00               79   \n",
       "\n",
       "         Code commune   Type local  Nombre pieces principales Nature culture  \\\n",
       "0                  50   Dépendance                        0.0              T   \n",
       "1                 261          NaN                        NaN              T   \n",
       "2                 139       Maison                        4.0              S   \n",
       "3                 113  Appartement                        2.0            NaN   \n",
       "4                  29   Dépendance                        0.0            NaN   \n",
       "...               ...          ...                        ...            ...   \n",
       "1587802            90       Maison                        4.0              S   \n",
       "1587803           202          NaN                        NaN              S   \n",
       "1587804           440  Appartement                        4.0            NaN   \n",
       "1587805            31          NaN                        NaN              S   \n",
       "1587806           132          NaN                        NaN              P   \n",
       "\n",
       "         Surface terrain  Surface reelle bati  \n",
       "0                 3000.0                  0.0  \n",
       "1                65635.0                  NaN  \n",
       "2                 1049.0                 70.0  \n",
       "3                    NaN                 48.0  \n",
       "4                    NaN                  0.0  \n",
       "...                  ...                  ...  \n",
       "1587802            131.0                103.0  \n",
       "1587803              3.0                  NaN  \n",
       "1587804              NaN                 96.0  \n",
       "1587805            532.0                  NaN  \n",
       "1587806           2484.0                  NaN  \n",
       "\n",
       "[1587807 rows x 10 columns]"
      ]
     },
     "execution_count": 219,
     "metadata": {},
     "output_type": "execute_result"
    }
   ],
   "source": [
    "train = pd.read_csv('data/train_public.csv')\n",
    "train"
   ]
  },
  {
   "cell_type": "code",
   "execution_count": 220,
   "metadata": {},
   "outputs": [
    {
     "data": {
      "text/html": [
       "<div>\n",
       "<style scoped>\n",
       "    .dataframe tbody tr th:only-of-type {\n",
       "        vertical-align: middle;\n",
       "    }\n",
       "\n",
       "    .dataframe tbody tr th {\n",
       "        vertical-align: top;\n",
       "    }\n",
       "\n",
       "    .dataframe thead th {\n",
       "        text-align: right;\n",
       "    }\n",
       "</style>\n",
       "<table border=\"1\" class=\"dataframe\">\n",
       "  <thead>\n",
       "    <tr style=\"text-align: right;\">\n",
       "      <th></th>\n",
       "      <th>Date mutation</th>\n",
       "      <th>Nature mutation</th>\n",
       "      <th>Valeur fonciere</th>\n",
       "      <th>Code departement</th>\n",
       "      <th>Code commune</th>\n",
       "      <th>Type local</th>\n",
       "      <th>Nombre pieces principales</th>\n",
       "      <th>Nature culture</th>\n",
       "      <th>Surface terrain</th>\n",
       "      <th>Surface reelle bati</th>\n",
       "    </tr>\n",
       "  </thead>\n",
       "  <tbody>\n",
       "    <tr>\n",
       "      <th>0</th>\n",
       "      <td>11/02/2021</td>\n",
       "      <td>Vente</td>\n",
       "      <td>197000,00</td>\n",
       "      <td>33</td>\n",
       "      <td>522</td>\n",
       "      <td>Appartement</td>\n",
       "      <td>3.0</td>\n",
       "      <td>NaN</td>\n",
       "      <td>NaN</td>\n",
       "      <td>64.0</td>\n",
       "    </tr>\n",
       "    <tr>\n",
       "      <th>1</th>\n",
       "      <td>15/10/2021</td>\n",
       "      <td>Vente</td>\n",
       "      <td>570120,00</td>\n",
       "      <td>14</td>\n",
       "      <td>715</td>\n",
       "      <td>Appartement</td>\n",
       "      <td>1.0</td>\n",
       "      <td>S</td>\n",
       "      <td>104.0</td>\n",
       "      <td>30.0</td>\n",
       "    </tr>\n",
       "    <tr>\n",
       "      <th>2</th>\n",
       "      <td>24/08/2021</td>\n",
       "      <td>Vente</td>\n",
       "      <td>380000,00</td>\n",
       "      <td>74</td>\n",
       "      <td>263</td>\n",
       "      <td>Maison</td>\n",
       "      <td>4.0</td>\n",
       "      <td>S</td>\n",
       "      <td>639.0</td>\n",
       "      <td>76.0</td>\n",
       "    </tr>\n",
       "    <tr>\n",
       "      <th>3</th>\n",
       "      <td>08/01/2021</td>\n",
       "      <td>Vente</td>\n",
       "      <td>11900,00</td>\n",
       "      <td>63</td>\n",
       "      <td>163</td>\n",
       "      <td>NaN</td>\n",
       "      <td>NaN</td>\n",
       "      <td>P</td>\n",
       "      <td>17130.0</td>\n",
       "      <td>NaN</td>\n",
       "    </tr>\n",
       "    <tr>\n",
       "      <th>4</th>\n",
       "      <td>13/04/2021</td>\n",
       "      <td>Vente</td>\n",
       "      <td>165900,00</td>\n",
       "      <td>37</td>\n",
       "      <td>158</td>\n",
       "      <td>Dépendance</td>\n",
       "      <td>0.0</td>\n",
       "      <td>S</td>\n",
       "      <td>606.0</td>\n",
       "      <td>0.0</td>\n",
       "    </tr>\n",
       "    <tr>\n",
       "      <th>...</th>\n",
       "      <td>...</td>\n",
       "      <td>...</td>\n",
       "      <td>...</td>\n",
       "      <td>...</td>\n",
       "      <td>...</td>\n",
       "      <td>...</td>\n",
       "      <td>...</td>\n",
       "      <td>...</td>\n",
       "      <td>...</td>\n",
       "      <td>...</td>\n",
       "    </tr>\n",
       "    <tr>\n",
       "      <th>396947</th>\n",
       "      <td>10/09/2021</td>\n",
       "      <td>Vente</td>\n",
       "      <td>164000,00</td>\n",
       "      <td>16</td>\n",
       "      <td>393</td>\n",
       "      <td>Dépendance</td>\n",
       "      <td>0.0</td>\n",
       "      <td>S</td>\n",
       "      <td>665.0</td>\n",
       "      <td>0.0</td>\n",
       "    </tr>\n",
       "    <tr>\n",
       "      <th>396948</th>\n",
       "      <td>16/12/2021</td>\n",
       "      <td>Vente</td>\n",
       "      <td>98000,00</td>\n",
       "      <td>34</td>\n",
       "      <td>324</td>\n",
       "      <td>Appartement</td>\n",
       "      <td>1.0</td>\n",
       "      <td>NaN</td>\n",
       "      <td>NaN</td>\n",
       "      <td>19.0</td>\n",
       "    </tr>\n",
       "    <tr>\n",
       "      <th>396949</th>\n",
       "      <td>01/12/2021</td>\n",
       "      <td>Vente</td>\n",
       "      <td>3000,00</td>\n",
       "      <td>64</td>\n",
       "      <td>161</td>\n",
       "      <td>NaN</td>\n",
       "      <td>NaN</td>\n",
       "      <td>BT</td>\n",
       "      <td>8250.0</td>\n",
       "      <td>NaN</td>\n",
       "    </tr>\n",
       "    <tr>\n",
       "      <th>396950</th>\n",
       "      <td>05/08/2021</td>\n",
       "      <td>Vente</td>\n",
       "      <td>358800,00</td>\n",
       "      <td>2B</td>\n",
       "      <td>37</td>\n",
       "      <td>NaN</td>\n",
       "      <td>NaN</td>\n",
       "      <td>B</td>\n",
       "      <td>1102.0</td>\n",
       "      <td>NaN</td>\n",
       "    </tr>\n",
       "    <tr>\n",
       "      <th>396951</th>\n",
       "      <td>11/10/2021</td>\n",
       "      <td>Vente</td>\n",
       "      <td>99000,00</td>\n",
       "      <td>43</td>\n",
       "      <td>62</td>\n",
       "      <td>NaN</td>\n",
       "      <td>NaN</td>\n",
       "      <td>T</td>\n",
       "      <td>22.0</td>\n",
       "      <td>NaN</td>\n",
       "    </tr>\n",
       "  </tbody>\n",
       "</table>\n",
       "<p>396952 rows × 10 columns</p>\n",
       "</div>"
      ],
      "text/plain": [
       "       Date mutation Nature mutation Valeur fonciere Code departement  \\\n",
       "0         11/02/2021           Vente       197000,00               33   \n",
       "1         15/10/2021           Vente       570120,00               14   \n",
       "2         24/08/2021           Vente       380000,00               74   \n",
       "3         08/01/2021           Vente        11900,00               63   \n",
       "4         13/04/2021           Vente       165900,00               37   \n",
       "...              ...             ...             ...              ...   \n",
       "396947    10/09/2021           Vente       164000,00               16   \n",
       "396948    16/12/2021           Vente        98000,00               34   \n",
       "396949    01/12/2021           Vente         3000,00               64   \n",
       "396950    05/08/2021           Vente       358800,00               2B   \n",
       "396951    11/10/2021           Vente        99000,00               43   \n",
       "\n",
       "        Code commune   Type local  Nombre pieces principales Nature culture  \\\n",
       "0                522  Appartement                        3.0            NaN   \n",
       "1                715  Appartement                        1.0              S   \n",
       "2                263       Maison                        4.0              S   \n",
       "3                163          NaN                        NaN              P   \n",
       "4                158   Dépendance                        0.0              S   \n",
       "...              ...          ...                        ...            ...   \n",
       "396947           393   Dépendance                        0.0              S   \n",
       "396948           324  Appartement                        1.0            NaN   \n",
       "396949           161          NaN                        NaN             BT   \n",
       "396950            37          NaN                        NaN              B   \n",
       "396951            62          NaN                        NaN              T   \n",
       "\n",
       "        Surface terrain  Surface reelle bati  \n",
       "0                   NaN                 64.0  \n",
       "1                 104.0                 30.0  \n",
       "2                 639.0                 76.0  \n",
       "3               17130.0                  NaN  \n",
       "4                 606.0                  0.0  \n",
       "...                 ...                  ...  \n",
       "396947            665.0                  0.0  \n",
       "396948              NaN                 19.0  \n",
       "396949           8250.0                  NaN  \n",
       "396950           1102.0                  NaN  \n",
       "396951             22.0                  NaN  \n",
       "\n",
       "[396952 rows x 10 columns]"
      ]
     },
     "execution_count": 220,
     "metadata": {},
     "output_type": "execute_result"
    }
   ],
   "source": [
    "test = pd.read_csv('data/test_public.csv')\n",
    "test"
   ]
  },
  {
   "cell_type": "code",
   "execution_count": 221,
   "metadata": {},
   "outputs": [
    {
     "data": {
      "text/plain": [
       "Index(['Date mutation', 'Nature mutation', 'Valeur fonciere',\n",
       "       'Code departement', 'Code commune', 'Type local',\n",
       "       'Nombre pieces principales', 'Nature culture', 'Surface terrain',\n",
       "       'Surface reelle bati'],\n",
       "      dtype='object')"
      ]
     },
     "execution_count": 221,
     "metadata": {},
     "output_type": "execute_result"
    }
   ],
   "source": [
    "train.columns"
   ]
  },
  {
   "cell_type": "markdown",
   "metadata": {},
   "source": [
    "## Labels"
   ]
  },
  {
   "cell_type": "code",
   "execution_count": 222,
   "metadata": {},
   "outputs": [
    {
     "data": {
      "text/plain": [
       "((116890,),\n",
       " array(['874075,00', '149064,00', '306000,00', ..., '209245,00',\n",
       "        '784090,00', '170130,00'], dtype=object))"
      ]
     },
     "execution_count": 222,
     "metadata": {},
     "output_type": "execute_result"
    }
   ],
   "source": [
    "train['Valeur fonciere'].unique().shape, train['Valeur fonciere'].unique()\n"
   ]
  },
  {
   "cell_type": "code",
   "execution_count": 223,
   "metadata": {},
   "outputs": [
    {
     "data": {
      "text/plain": [
       "Valeur fonciere\n",
       "150000,00     13652\n",
       "120000,00     12662\n",
       "100000,00     12599\n",
       "80000,00      11644\n",
       "200000,00     11578\n",
       "              ...  \n",
       "613,50            1\n",
       "205999,00         1\n",
       "190740,00         1\n",
       "1077950,00        1\n",
       "170130,00         1\n",
       "Name: count, Length: 116890, dtype: int64"
      ]
     },
     "execution_count": 223,
     "metadata": {},
     "output_type": "execute_result"
    }
   ],
   "source": [
    "train['Valeur fonciere'].value_counts(dropna=False)"
   ]
  },
  {
   "cell_type": "markdown",
   "metadata": {},
   "source": [
    "First, we deal with tricky data types such as dates, and we create useful columns such as price per m2."
   ]
  },
  {
   "cell_type": "code",
   "execution_count": 224,
   "metadata": {},
   "outputs": [],
   "source": [
    "def to_float(x):\n",
    "  try : \n",
    "    return float(x)\n",
    "  except :\n",
    "    return float(x.replace(',', '.'))\n",
    "def to_string(x):\n",
    "  try : return str(x)\n",
    "  except : return x\n",
    "def transform_dataset(df):\n",
    "    df['Date mutation'] = pd.to_datetime( df['Date mutation'], format='%d/%m/%Y')\n",
    "    df['Year'] = df['Date mutation'].dt.year\n",
    "    df['Month'] = df['Date mutation'].dt.month\n",
    "    df['Day'] = df['Date mutation'].dt.day\n",
    "    df = df.drop(columns=['Date mutation', 'Nature culture', 'Nature mutation'])\n",
    "    df['Valeur fonciere'] = df['Valeur fonciere'].apply(lambda x : to_float(x))\n",
    "    df['Code departement'] = df['Code departement'].apply(lambda x : to_string(x))\n",
    "    df['Code commune'] = df['Code commune'].apply(lambda x : to_string(x))\n",
    "    df['Nombre pieces principales'] = df['Nombre pieces principales'].fillna(0)\n",
    "    df['Nombre pieces principales'] = df['Nombre pieces principales'].apply(lambda x : int(x))\n",
    "    df['Surface terrain'] = df['Surface terrain'].apply(lambda x : float(x))\n",
    "    df['Surface reelle bati'] = df['Surface reelle bati'].apply(lambda x : float(x))\n",
    "    df.drop(df[df['Surface terrain'] <= 9].index, inplace = True)\n",
    "    df.drop(df[df['Valeur fonciere'] <= 10].index, inplace = True)\n",
    "    df['Prix m2'] = df['Valeur fonciere']/df['Surface terrain']\n",
    "    df['Proportion terrain bati'] = df['Surface reelle bati']/df['Surface terrain']\n",
    "    df.drop(df[df['Prix m2'] <= 0.1].index, inplace = True)\n",
    "    df.drop_duplicates(subset=['Valeur fonciere', 'Code departement'], inplace=True)\n",
    "    return df"
   ]
  },
  {
   "cell_type": "code",
   "execution_count": 225,
   "metadata": {},
   "outputs": [],
   "source": [
    "train = transform_dataset(train)\n",
    "test = transform_dataset(test)"
   ]
  },
  {
   "cell_type": "markdown",
   "metadata": {},
   "source": [
    "Then, we inspect NaN values and deal with them."
   ]
  },
  {
   "cell_type": "code",
   "execution_count": 226,
   "metadata": {},
   "outputs": [
    {
     "data": {
      "text/plain": [
       "Valeur fonciere                  97\n",
       "Code departement                  0\n",
       "Code commune                      0\n",
       "Type local                   121450\n",
       "Nombre pieces principales         0\n",
       "Surface terrain              107262\n",
       "Surface reelle bati          121675\n",
       "Year                              0\n",
       "Month                             0\n",
       "Day                               0\n",
       "Prix m2                      107357\n",
       "Proportion terrain bati      216967\n",
       "dtype: int64"
      ]
     },
     "execution_count": 226,
     "metadata": {},
     "output_type": "execute_result"
    }
   ],
   "source": [
    "train.isna().sum()"
   ]
  },
  {
   "cell_type": "code",
   "execution_count": 227,
   "metadata": {},
   "outputs": [
    {
     "data": {
      "text/plain": [
       "Valeur fonciere                 94\n",
       "Code departement                 0\n",
       "Code commune                     0\n",
       "Type local                   57542\n",
       "Nombre pieces principales        0\n",
       "Surface terrain              42576\n",
       "Surface reelle bati          57626\n",
       "Year                             0\n",
       "Month                            0\n",
       "Day                              0\n",
       "Prix m2                      42666\n",
       "Proportion terrain bati      96099\n",
       "dtype: int64"
      ]
     },
     "execution_count": 227,
     "metadata": {},
     "output_type": "execute_result"
    }
   ],
   "source": [
    "test.isna().sum()"
   ]
  },
  {
   "cell_type": "markdown",
   "metadata": {},
   "source": [
    "We choose to drop them, as we will still have a sufficient amount of data for our task"
   ]
  },
  {
   "cell_type": "code",
   "execution_count": 228,
   "metadata": {},
   "outputs": [],
   "source": [
    "train.dropna(inplace=True)\n",
    "test.dropna(inplace=True)"
   ]
  },
  {
   "cell_type": "markdown",
   "metadata": {},
   "source": [
    "Let's now deal with the categorical data."
   ]
  },
  {
   "cell_type": "code",
   "execution_count": 229,
   "metadata": {},
   "outputs": [
    {
     "data": {
      "text/plain": [
       "Valeur fonciere              float64\n",
       "Code departement              object\n",
       "Code commune                  object\n",
       "Type local                    object\n",
       "Nombre pieces principales      int64\n",
       "Surface terrain              float64\n",
       "Surface reelle bati          float64\n",
       "Year                           int32\n",
       "Month                          int32\n",
       "Day                            int32\n",
       "Prix m2                      float64\n",
       "Proportion terrain bati      float64\n",
       "dtype: object"
      ]
     },
     "execution_count": 229,
     "metadata": {},
     "output_type": "execute_result"
    }
   ],
   "source": [
    "train.dtypes"
   ]
  },
  {
   "cell_type": "code",
   "execution_count": 230,
   "metadata": {},
   "outputs": [
    {
     "data": {
      "text/plain": [
       "array(['13', '60', '44', '59', '49', '37', '72', '14', '87', '33', '28',\n",
       "       '85', '40', '95', '89', '17', '11', '93', '77', '91', '52', '6',\n",
       "       '21', '24', '73', '80', '45', '27', '84', '83', '2', '1', '62',\n",
       "       '63', '30', '23', '76', '29', '42', '7', '69', '92', '64', '31',\n",
       "       '56', '74', '34', '78', '3', '82', '53', '79', '9', '50', '54',\n",
       "       '71', '19', '35', '47', '58', '55', '38', '26', '12', '66', '51',\n",
       "       '65', '974', '39', '32', '94', '16', '86', '81', '10', '22', '15',\n",
       "       '88', '36', '90', '43', '41', '2B', '8', '61', '4', '25', '75',\n",
       "       '70', '971', '46', '972', '18', '973', '48', '5', '2A'],\n",
       "      dtype=object)"
      ]
     },
     "execution_count": 230,
     "metadata": {},
     "output_type": "execute_result"
    }
   ],
   "source": [
    "train['Code departement'].unique()"
   ]
  },
  {
   "cell_type": "code",
   "execution_count": 231,
   "metadata": {},
   "outputs": [],
   "source": [
    "train['Code departement'] = train['Code departement'].replace({'2A': '2', '2B': '2'})\n",
    "test['Code departement'] = test['Code departement'].replace({'2A': '2', '2B': '2'})"
   ]
  },
  {
   "cell_type": "code",
   "execution_count": 232,
   "metadata": {},
   "outputs": [],
   "source": [
    "train['Code commune'] = pd.to_numeric(train['Code commune'], errors='coerce')\n",
    "test['Code commune'] = pd.to_numeric(test['Code commune'], errors='coerce')"
   ]
  },
  {
   "cell_type": "code",
   "execution_count": 233,
   "metadata": {},
   "outputs": [],
   "source": [
    "train = pd.get_dummies(train, columns=['Type local'])\n",
    "test = pd.get_dummies(test, columns=['Type local'])"
   ]
  },
  {
   "cell_type": "code",
   "execution_count": 234,
   "metadata": {},
   "outputs": [
    {
     "data": {
      "text/plain": [
       "Index(['Valeur fonciere', 'Code departement', 'Code commune',\n",
       "       'Nombre pieces principales', 'Surface terrain', 'Surface reelle bati',\n",
       "       'Year', 'Month', 'Day', 'Prix m2', 'Proportion terrain bati',\n",
       "       'Type local_Appartement', 'Type local_Dépendance',\n",
       "       'Type local_Local industriel. commercial ou assimilé',\n",
       "       'Type local_Maison'],\n",
       "      dtype='object')"
      ]
     },
     "execution_count": 234,
     "metadata": {},
     "output_type": "execute_result"
    }
   ],
   "source": [
    "test.columns"
   ]
  },
  {
   "cell_type": "markdown",
   "metadata": {},
   "source": [
    "Finally, we separate the labels from the features for both datasets"
   ]
  },
  {
   "cell_type": "code",
   "execution_count": 235,
   "metadata": {},
   "outputs": [],
   "source": [
    "X_train = train.drop(columns=['Valeur fonciere'])\n",
    "X_test = test.drop(columns=['Valeur fonciere'])\n",
    "y_train = train['Valeur fonciere']\n",
    "y_test = test['Valeur fonciere']"
   ]
  },
  {
   "cell_type": "code",
   "execution_count": 236,
   "metadata": {},
   "outputs": [
    {
     "data": {
      "text/plain": [
       "Index(['Code departement', 'Code commune', 'Nombre pieces principales',\n",
       "       'Surface terrain', 'Surface reelle bati', 'Year', 'Month', 'Day',\n",
       "       'Prix m2', 'Proportion terrain bati', 'Type local_Appartement',\n",
       "       'Type local_Dépendance',\n",
       "       'Type local_Local industriel. commercial ou assimilé',\n",
       "       'Type local_Maison'],\n",
       "      dtype='object')"
      ]
     },
     "execution_count": 236,
     "metadata": {},
     "output_type": "execute_result"
    }
   ],
   "source": [
    "X_test.columns"
   ]
  },
  {
   "cell_type": "markdown",
   "metadata": {},
   "source": [
    "# Base model"
   ]
  },
  {
   "cell_type": "code",
   "execution_count": 237,
   "metadata": {},
   "outputs": [],
   "source": [
    "clf = Pipeline(steps=[\n",
    "    ('scaler', StandardScaler()),\n",
    "    ('regressor', LinearRegression())\n",
    "])\n"
   ]
  },
  {
   "cell_type": "code",
   "execution_count": 238,
   "metadata": {},
   "outputs": [
    {
     "data": {
      "text/html": [
       "<style>#sk-container-id-7 {color: black;}#sk-container-id-7 pre{padding: 0;}#sk-container-id-7 div.sk-toggleable {background-color: white;}#sk-container-id-7 label.sk-toggleable__label {cursor: pointer;display: block;width: 100%;margin-bottom: 0;padding: 0.3em;box-sizing: border-box;text-align: center;}#sk-container-id-7 label.sk-toggleable__label-arrow:before {content: \"▸\";float: left;margin-right: 0.25em;color: #696969;}#sk-container-id-7 label.sk-toggleable__label-arrow:hover:before {color: black;}#sk-container-id-7 div.sk-estimator:hover label.sk-toggleable__label-arrow:before {color: black;}#sk-container-id-7 div.sk-toggleable__content {max-height: 0;max-width: 0;overflow: hidden;text-align: left;background-color: #f0f8ff;}#sk-container-id-7 div.sk-toggleable__content pre {margin: 0.2em;color: black;border-radius: 0.25em;background-color: #f0f8ff;}#sk-container-id-7 input.sk-toggleable__control:checked~div.sk-toggleable__content {max-height: 200px;max-width: 100%;overflow: auto;}#sk-container-id-7 input.sk-toggleable__control:checked~label.sk-toggleable__label-arrow:before {content: \"▾\";}#sk-container-id-7 div.sk-estimator input.sk-toggleable__control:checked~label.sk-toggleable__label {background-color: #d4ebff;}#sk-container-id-7 div.sk-label input.sk-toggleable__control:checked~label.sk-toggleable__label {background-color: #d4ebff;}#sk-container-id-7 input.sk-hidden--visually {border: 0;clip: rect(1px 1px 1px 1px);clip: rect(1px, 1px, 1px, 1px);height: 1px;margin: -1px;overflow: hidden;padding: 0;position: absolute;width: 1px;}#sk-container-id-7 div.sk-estimator {font-family: monospace;background-color: #f0f8ff;border: 1px dotted black;border-radius: 0.25em;box-sizing: border-box;margin-bottom: 0.5em;}#sk-container-id-7 div.sk-estimator:hover {background-color: #d4ebff;}#sk-container-id-7 div.sk-parallel-item::after {content: \"\";width: 100%;border-bottom: 1px solid gray;flex-grow: 1;}#sk-container-id-7 div.sk-label:hover label.sk-toggleable__label {background-color: #d4ebff;}#sk-container-id-7 div.sk-serial::before {content: \"\";position: absolute;border-left: 1px solid gray;box-sizing: border-box;top: 0;bottom: 0;left: 50%;z-index: 0;}#sk-container-id-7 div.sk-serial {display: flex;flex-direction: column;align-items: center;background-color: white;padding-right: 0.2em;padding-left: 0.2em;position: relative;}#sk-container-id-7 div.sk-item {position: relative;z-index: 1;}#sk-container-id-7 div.sk-parallel {display: flex;align-items: stretch;justify-content: center;background-color: white;position: relative;}#sk-container-id-7 div.sk-item::before, #sk-container-id-7 div.sk-parallel-item::before {content: \"\";position: absolute;border-left: 1px solid gray;box-sizing: border-box;top: 0;bottom: 0;left: 50%;z-index: -1;}#sk-container-id-7 div.sk-parallel-item {display: flex;flex-direction: column;z-index: 1;position: relative;background-color: white;}#sk-container-id-7 div.sk-parallel-item:first-child::after {align-self: flex-end;width: 50%;}#sk-container-id-7 div.sk-parallel-item:last-child::after {align-self: flex-start;width: 50%;}#sk-container-id-7 div.sk-parallel-item:only-child::after {width: 0;}#sk-container-id-7 div.sk-dashed-wrapped {border: 1px dashed gray;margin: 0 0.4em 0.5em 0.4em;box-sizing: border-box;padding-bottom: 0.4em;background-color: white;}#sk-container-id-7 div.sk-label label {font-family: monospace;font-weight: bold;display: inline-block;line-height: 1.2em;}#sk-container-id-7 div.sk-label-container {text-align: center;}#sk-container-id-7 div.sk-container {/* jupyter's `normalize.less` sets `[hidden] { display: none; }` but bootstrap.min.css set `[hidden] { display: none !important; }` so we also need the `!important` here to be able to override the default hidden behavior on the sphinx rendered scikit-learn.org. See: https://github.com/scikit-learn/scikit-learn/issues/21755 */display: inline-block !important;position: relative;}#sk-container-id-7 div.sk-text-repr-fallback {display: none;}</style><div id=\"sk-container-id-7\" class=\"sk-top-container\"><div class=\"sk-text-repr-fallback\"><pre>Pipeline(steps=[(&#x27;scaler&#x27;, StandardScaler()),\n",
       "                (&#x27;regressor&#x27;, LinearRegression())])</pre><b>In a Jupyter environment, please rerun this cell to show the HTML representation or trust the notebook. <br />On GitHub, the HTML representation is unable to render, please try loading this page with nbviewer.org.</b></div><div class=\"sk-container\" hidden><div class=\"sk-item sk-dashed-wrapped\"><div class=\"sk-label-container\"><div class=\"sk-label sk-toggleable\"><input class=\"sk-toggleable__control sk-hidden--visually\" id=\"sk-estimator-id-19\" type=\"checkbox\" ><label for=\"sk-estimator-id-19\" class=\"sk-toggleable__label sk-toggleable__label-arrow\">Pipeline</label><div class=\"sk-toggleable__content\"><pre>Pipeline(steps=[(&#x27;scaler&#x27;, StandardScaler()),\n",
       "                (&#x27;regressor&#x27;, LinearRegression())])</pre></div></div></div><div class=\"sk-serial\"><div class=\"sk-item\"><div class=\"sk-estimator sk-toggleable\"><input class=\"sk-toggleable__control sk-hidden--visually\" id=\"sk-estimator-id-20\" type=\"checkbox\" ><label for=\"sk-estimator-id-20\" class=\"sk-toggleable__label sk-toggleable__label-arrow\">StandardScaler</label><div class=\"sk-toggleable__content\"><pre>StandardScaler()</pre></div></div></div><div class=\"sk-item\"><div class=\"sk-estimator sk-toggleable\"><input class=\"sk-toggleable__control sk-hidden--visually\" id=\"sk-estimator-id-21\" type=\"checkbox\" ><label for=\"sk-estimator-id-21\" class=\"sk-toggleable__label sk-toggleable__label-arrow\">LinearRegression</label><div class=\"sk-toggleable__content\"><pre>LinearRegression()</pre></div></div></div></div></div></div></div>"
      ],
      "text/plain": [
       "Pipeline(steps=[('scaler', StandardScaler()),\n",
       "                ('regressor', LinearRegression())])"
      ]
     },
     "execution_count": 238,
     "metadata": {},
     "output_type": "execute_result"
    }
   ],
   "source": [
    "clf.fit(X_train, y_train)\n",
    "clf"
   ]
  },
  {
   "cell_type": "code",
   "execution_count": 239,
   "metadata": {},
   "outputs": [],
   "source": [
    "y_pred = clf.predict(X_test)"
   ]
  },
  {
   "cell_type": "code",
   "execution_count": 240,
   "metadata": {},
   "outputs": [
    {
     "data": {
      "text/plain": [
       "(45075,)"
      ]
     },
     "execution_count": 240,
     "metadata": {},
     "output_type": "execute_result"
    }
   ],
   "source": [
    "y_pred.shape"
   ]
  },
  {
   "cell_type": "code",
   "execution_count": 241,
   "metadata": {},
   "outputs": [
    {
     "data": {
      "text/plain": [
       "(45075,)"
      ]
     },
     "execution_count": 241,
     "metadata": {},
     "output_type": "execute_result"
    }
   ],
   "source": [
    "y_test.shape"
   ]
  },
  {
   "cell_type": "code",
   "execution_count": 242,
   "metadata": {},
   "outputs": [
    {
     "ename": "ValueError",
     "evalue": "continuous is not supported",
     "output_type": "error",
     "traceback": [
      "\u001b[0;31m---------------------------------------------------------------------------\u001b[0m",
      "\u001b[0;31mValueError\u001b[0m                                Traceback (most recent call last)",
      "\u001b[1;32m/Users/marionchadal/Library/Mobile Documents/com~apple~CloudDocs/M2DS 2/Data Camp/RAMP/RAMP-Challenge/starting_kit.ipynb Cell 39\u001b[0m line \u001b[0;36m1\n\u001b[0;32m----> <a href='vscode-notebook-cell:/Users/marionchadal/Library/Mobile%20Documents/com~apple~CloudDocs/M2DS%202/Data%20Camp/RAMP/RAMP-Challenge/starting_kit.ipynb#X62sZmlsZQ%3D%3D?line=0'>1</a>\u001b[0m accuracy_score(y_test, y_pred)\n",
      "File \u001b[0;32m~/Library/Python/3.9/lib/python/site-packages/sklearn/utils/_param_validation.py:211\u001b[0m, in \u001b[0;36mvalidate_params.<locals>.decorator.<locals>.wrapper\u001b[0;34m(*args, **kwargs)\u001b[0m\n\u001b[1;32m    205\u001b[0m \u001b[39mtry\u001b[39;00m:\n\u001b[1;32m    206\u001b[0m     \u001b[39mwith\u001b[39;00m config_context(\n\u001b[1;32m    207\u001b[0m         skip_parameter_validation\u001b[39m=\u001b[39m(\n\u001b[1;32m    208\u001b[0m             prefer_skip_nested_validation \u001b[39mor\u001b[39;00m global_skip_validation\n\u001b[1;32m    209\u001b[0m         )\n\u001b[1;32m    210\u001b[0m     ):\n\u001b[0;32m--> 211\u001b[0m         \u001b[39mreturn\u001b[39;00m func(\u001b[39m*\u001b[39;49margs, \u001b[39m*\u001b[39;49m\u001b[39m*\u001b[39;49mkwargs)\n\u001b[1;32m    212\u001b[0m \u001b[39mexcept\u001b[39;00m InvalidParameterError \u001b[39mas\u001b[39;00m e:\n\u001b[1;32m    213\u001b[0m     \u001b[39m# When the function is just a wrapper around an estimator, we allow\u001b[39;00m\n\u001b[1;32m    214\u001b[0m     \u001b[39m# the function to delegate validation to the estimator, but we replace\u001b[39;00m\n\u001b[1;32m    215\u001b[0m     \u001b[39m# the name of the estimator by the name of the function in the error\u001b[39;00m\n\u001b[1;32m    216\u001b[0m     \u001b[39m# message to avoid confusion.\u001b[39;00m\n\u001b[1;32m    217\u001b[0m     msg \u001b[39m=\u001b[39m re\u001b[39m.\u001b[39msub(\n\u001b[1;32m    218\u001b[0m         \u001b[39mr\u001b[39m\u001b[39m\"\u001b[39m\u001b[39mparameter of \u001b[39m\u001b[39m\\\u001b[39m\u001b[39mw+ must be\u001b[39m\u001b[39m\"\u001b[39m,\n\u001b[1;32m    219\u001b[0m         \u001b[39mf\u001b[39m\u001b[39m\"\u001b[39m\u001b[39mparameter of \u001b[39m\u001b[39m{\u001b[39;00mfunc\u001b[39m.\u001b[39m\u001b[39m__qualname__\u001b[39m\u001b[39m}\u001b[39;00m\u001b[39m must be\u001b[39m\u001b[39m\"\u001b[39m,\n\u001b[1;32m    220\u001b[0m         \u001b[39mstr\u001b[39m(e),\n\u001b[1;32m    221\u001b[0m     )\n",
      "File \u001b[0;32m~/Library/Python/3.9/lib/python/site-packages/sklearn/metrics/_classification.py:220\u001b[0m, in \u001b[0;36maccuracy_score\u001b[0;34m(y_true, y_pred, normalize, sample_weight)\u001b[0m\n\u001b[1;32m    154\u001b[0m \u001b[39m\u001b[39m\u001b[39m\"\"\"Accuracy classification score.\u001b[39;00m\n\u001b[1;32m    155\u001b[0m \n\u001b[1;32m    156\u001b[0m \u001b[39mIn multilabel classification, this function computes subset accuracy:\u001b[39;00m\n\u001b[0;32m   (...)\u001b[0m\n\u001b[1;32m    216\u001b[0m \u001b[39m0.5\u001b[39;00m\n\u001b[1;32m    217\u001b[0m \u001b[39m\"\"\"\u001b[39;00m\n\u001b[1;32m    219\u001b[0m \u001b[39m# Compute accuracy for each possible representation\u001b[39;00m\n\u001b[0;32m--> 220\u001b[0m y_type, y_true, y_pred \u001b[39m=\u001b[39m _check_targets(y_true, y_pred)\n\u001b[1;32m    221\u001b[0m check_consistent_length(y_true, y_pred, sample_weight)\n\u001b[1;32m    222\u001b[0m \u001b[39mif\u001b[39;00m y_type\u001b[39m.\u001b[39mstartswith(\u001b[39m\"\u001b[39m\u001b[39mmultilabel\u001b[39m\u001b[39m\"\u001b[39m):\n",
      "File \u001b[0;32m~/Library/Python/3.9/lib/python/site-packages/sklearn/metrics/_classification.py:104\u001b[0m, in \u001b[0;36m_check_targets\u001b[0;34m(y_true, y_pred)\u001b[0m\n\u001b[1;32m    102\u001b[0m \u001b[39m# No metrics support \"multiclass-multioutput\" format\u001b[39;00m\n\u001b[1;32m    103\u001b[0m \u001b[39mif\u001b[39;00m y_type \u001b[39mnot\u001b[39;00m \u001b[39min\u001b[39;00m [\u001b[39m\"\u001b[39m\u001b[39mbinary\u001b[39m\u001b[39m\"\u001b[39m, \u001b[39m\"\u001b[39m\u001b[39mmulticlass\u001b[39m\u001b[39m\"\u001b[39m, \u001b[39m\"\u001b[39m\u001b[39mmultilabel-indicator\u001b[39m\u001b[39m\"\u001b[39m]:\n\u001b[0;32m--> 104\u001b[0m     \u001b[39mraise\u001b[39;00m \u001b[39mValueError\u001b[39;00m(\u001b[39m\"\u001b[39m\u001b[39m{0}\u001b[39;00m\u001b[39m is not supported\u001b[39m\u001b[39m\"\u001b[39m\u001b[39m.\u001b[39mformat(y_type))\n\u001b[1;32m    106\u001b[0m \u001b[39mif\u001b[39;00m y_type \u001b[39min\u001b[39;00m [\u001b[39m\"\u001b[39m\u001b[39mbinary\u001b[39m\u001b[39m\"\u001b[39m, \u001b[39m\"\u001b[39m\u001b[39mmulticlass\u001b[39m\u001b[39m\"\u001b[39m]:\n\u001b[1;32m    107\u001b[0m     y_true \u001b[39m=\u001b[39m column_or_1d(y_true)\n",
      "\u001b[0;31mValueError\u001b[0m: continuous is not supported"
     ]
    }
   ],
   "source": [
    "accuracy_score(y_test, y_pred)"
   ]
  }
 ],
 "metadata": {
  "kernelspec": {
   "display_name": "Python 3",
   "language": "python",
   "name": "python3"
  },
  "language_info": {
   "codemirror_mode": {
    "name": "ipython",
    "version": 3
   },
   "file_extension": ".py",
   "mimetype": "text/x-python",
   "name": "python",
   "nbconvert_exporter": "python",
   "pygments_lexer": "ipython3",
   "version": "3.9.6"
  },
  "orig_nbformat": 4
 },
 "nbformat": 4,
 "nbformat_minor": 2
}
